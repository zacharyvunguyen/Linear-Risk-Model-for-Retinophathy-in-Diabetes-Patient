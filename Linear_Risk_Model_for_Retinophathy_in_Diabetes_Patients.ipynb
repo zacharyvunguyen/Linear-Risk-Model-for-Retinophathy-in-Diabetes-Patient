{
  "nbformat": 4,
  "nbformat_minor": 0,
  "metadata": {
    "colab": {
      "name": "Linear Risk Model for Retinophathy in Diabetes Patients.ipynb",
      "provenance": [],
      "collapsed_sections": [],
      "authorship_tag": "ABX9TyMoS0G104oCU4FHgvX2Y6hu",
      "include_colab_link": true
    },
    "kernelspec": {
      "name": "python3",
      "display_name": "Python 3"
    },
    "language_info": {
      "name": "python"
    }
  },
  "cells": [
    {
      "cell_type": "markdown",
      "metadata": {
        "id": "view-in-github",
        "colab_type": "text"
      },
      "source": [
        "<a href=\"https://colab.research.google.com/github/zacharyvunguyen/Linear-Risk-Model-for-Retinophathy-in-Diabetes-Patient/blob/main/Linear_Risk_Model_for_Retinophathy_in_Diabetes_Patients.ipynb\" target=\"_parent\"><img src=\"https://colab.research.google.com/assets/colab-badge.svg\" alt=\"Open In Colab\"/></a>"
      ]
    },
    {
      "cell_type": "markdown",
      "source": [
        "#Linear Risk Model for Retinophathy in Diabetes Patients \n",
        "\n",
        "## Overview:\n",
        "\n",
        "*Build a risk score model for retinopathy in diabetes patients using logistic regression.*\n",
        "\n",
        "**Topics:**\n",
        "\n",
        "- Data preprocessing\n",
        "  - Log transformations\n",
        "  - Standardization\n",
        "- Basic Risk Models\n",
        "  - Logistic Regression\n",
        "  - C-index\n",
        "  - Interactions Terms"
      ],
      "metadata": {
        "id": "eaHwkn5uCvC6"
      }
    },
    {
      "cell_type": "markdown",
      "source": [
        "## 1. Import Packages"
      ],
      "metadata": {
        "id": "W9r69xVyDoDT"
      }
    },
    {
      "cell_type": "code",
      "execution_count": 1,
      "metadata": {
        "id": "r7YK0HExCrov"
      },
      "outputs": [],
      "source": [
        "import numpy as np\n",
        "import pandas as pd\n",
        "import matplotlib.pyplot as plt"
      ]
    },
    {
      "cell_type": "code",
      "source": [
        "# Mouting Gdrive\n",
        "from google.colab import drive\n",
        "drive.mount('/content/drive')"
      ],
      "metadata": {
        "colab": {
          "base_uri": "https://localhost:8080/"
        },
        "id": "0VYQ9IINDr3n",
        "outputId": "65775f73-4c90-4cfe-d80c-f066f006737f"
      },
      "execution_count": 2,
      "outputs": [
        {
          "output_type": "stream",
          "name": "stdout",
          "text": [
            "Mounted at /content/drive\n"
          ]
        }
      ]
    },
    {
      "cell_type": "markdown",
      "source": [
        "## 2. Load Data"
      ],
      "metadata": {
        "id": "eTG9h_oaEGOO"
      }
    },
    {
      "cell_type": "code",
      "source": [
        "# For stability, load data from files that were generated using the load_data\n",
        "X = pd.read_csv('/content/drive/MyDrive/0_data_science/ai_medical_prognosis/w1/X_data.csv',index_col=0)\n",
        "y_df = pd.read_csv('/content/drive/MyDrive/0_data_science/ai_medical_prognosis/w1/y_data.csv',index_col=0)\n",
        "y = y_df['y']"
      ],
      "metadata": {
        "id": "bIPN3X_DD-sN"
      },
      "execution_count": 3,
      "outputs": []
    },
    {
      "cell_type": "markdown",
      "source": [
        "X and y are Pandas DataFrames that hold the data for 6,000 diabetic patients."
      ],
      "metadata": {
        "id": "cDfCzc_cEbVA"
      }
    },
    {
      "cell_type": "markdown",
      "source": [
        "## 3. Explore the Dataset"
      ],
      "metadata": {
        "id": "GnXRTtguEdcI"
      }
    },
    {
      "cell_type": "markdown",
      "source": [
        "The features (X) include the following fields:\n",
        "\n",
        "* Age: (years)\n",
        "* Systolic_BP: Systolic blood pressure (mmHg)\n",
        "* Diastolic_BP: Diastolic blood pressure (mmHg)\n",
        "* Cholesterol: (mg/DL)\n",
        "\n",
        "We can use the head() method to display the first few records of each."
      ],
      "metadata": {
        "id": "38wXLKD9EkOg"
      }
    },
    {
      "cell_type": "code",
      "source": [
        "X.head()"
      ],
      "metadata": {
        "colab": {
          "base_uri": "https://localhost:8080/",
          "height": 204
        },
        "id": "14usnY63EWKd",
        "outputId": "01e6fefd-1591-48d9-bfac-6197e20e3563"
      },
      "execution_count": 4,
      "outputs": [
        {
          "output_type": "execute_result",
          "data": {
            "text/plain": [
              "         Age  Systolic_BP  Diastolic_BP  Cholesterol\n",
              "0  77.196340    85.288742     80.021878    79.957109\n",
              "1  63.529850    99.379736     84.852361   110.382411\n",
              "2  69.003986   111.349455    109.850616   100.828246\n",
              "3  82.638210    95.056128     79.666851    87.066303\n",
              "4  78.346286   109.154591     90.713220    92.511770"
            ],
            "text/html": [
              "\n",
              "  <div id=\"df-7c8002b2-527e-44fb-952d-ab82ce18f74c\">\n",
              "    <div class=\"colab-df-container\">\n",
              "      <div>\n",
              "<style scoped>\n",
              "    .dataframe tbody tr th:only-of-type {\n",
              "        vertical-align: middle;\n",
              "    }\n",
              "\n",
              "    .dataframe tbody tr th {\n",
              "        vertical-align: top;\n",
              "    }\n",
              "\n",
              "    .dataframe thead th {\n",
              "        text-align: right;\n",
              "    }\n",
              "</style>\n",
              "<table border=\"1\" class=\"dataframe\">\n",
              "  <thead>\n",
              "    <tr style=\"text-align: right;\">\n",
              "      <th></th>\n",
              "      <th>Age</th>\n",
              "      <th>Systolic_BP</th>\n",
              "      <th>Diastolic_BP</th>\n",
              "      <th>Cholesterol</th>\n",
              "    </tr>\n",
              "  </thead>\n",
              "  <tbody>\n",
              "    <tr>\n",
              "      <th>0</th>\n",
              "      <td>77.196340</td>\n",
              "      <td>85.288742</td>\n",
              "      <td>80.021878</td>\n",
              "      <td>79.957109</td>\n",
              "    </tr>\n",
              "    <tr>\n",
              "      <th>1</th>\n",
              "      <td>63.529850</td>\n",
              "      <td>99.379736</td>\n",
              "      <td>84.852361</td>\n",
              "      <td>110.382411</td>\n",
              "    </tr>\n",
              "    <tr>\n",
              "      <th>2</th>\n",
              "      <td>69.003986</td>\n",
              "      <td>111.349455</td>\n",
              "      <td>109.850616</td>\n",
              "      <td>100.828246</td>\n",
              "    </tr>\n",
              "    <tr>\n",
              "      <th>3</th>\n",
              "      <td>82.638210</td>\n",
              "      <td>95.056128</td>\n",
              "      <td>79.666851</td>\n",
              "      <td>87.066303</td>\n",
              "    </tr>\n",
              "    <tr>\n",
              "      <th>4</th>\n",
              "      <td>78.346286</td>\n",
              "      <td>109.154591</td>\n",
              "      <td>90.713220</td>\n",
              "      <td>92.511770</td>\n",
              "    </tr>\n",
              "  </tbody>\n",
              "</table>\n",
              "</div>\n",
              "      <button class=\"colab-df-convert\" onclick=\"convertToInteractive('df-7c8002b2-527e-44fb-952d-ab82ce18f74c')\"\n",
              "              title=\"Convert this dataframe to an interactive table.\"\n",
              "              style=\"display:none;\">\n",
              "        \n",
              "  <svg xmlns=\"http://www.w3.org/2000/svg\" height=\"24px\"viewBox=\"0 0 24 24\"\n",
              "       width=\"24px\">\n",
              "    <path d=\"M0 0h24v24H0V0z\" fill=\"none\"/>\n",
              "    <path d=\"M18.56 5.44l.94 2.06.94-2.06 2.06-.94-2.06-.94-.94-2.06-.94 2.06-2.06.94zm-11 1L8.5 8.5l.94-2.06 2.06-.94-2.06-.94L8.5 2.5l-.94 2.06-2.06.94zm10 10l.94 2.06.94-2.06 2.06-.94-2.06-.94-.94-2.06-.94 2.06-2.06.94z\"/><path d=\"M17.41 7.96l-1.37-1.37c-.4-.4-.92-.59-1.43-.59-.52 0-1.04.2-1.43.59L10.3 9.45l-7.72 7.72c-.78.78-.78 2.05 0 2.83L4 21.41c.39.39.9.59 1.41.59.51 0 1.02-.2 1.41-.59l7.78-7.78 2.81-2.81c.8-.78.8-2.07 0-2.86zM5.41 20L4 18.59l7.72-7.72 1.47 1.35L5.41 20z\"/>\n",
              "  </svg>\n",
              "      </button>\n",
              "      \n",
              "  <style>\n",
              "    .colab-df-container {\n",
              "      display:flex;\n",
              "      flex-wrap:wrap;\n",
              "      gap: 12px;\n",
              "    }\n",
              "\n",
              "    .colab-df-convert {\n",
              "      background-color: #E8F0FE;\n",
              "      border: none;\n",
              "      border-radius: 50%;\n",
              "      cursor: pointer;\n",
              "      display: none;\n",
              "      fill: #1967D2;\n",
              "      height: 32px;\n",
              "      padding: 0 0 0 0;\n",
              "      width: 32px;\n",
              "    }\n",
              "\n",
              "    .colab-df-convert:hover {\n",
              "      background-color: #E2EBFA;\n",
              "      box-shadow: 0px 1px 2px rgba(60, 64, 67, 0.3), 0px 1px 3px 1px rgba(60, 64, 67, 0.15);\n",
              "      fill: #174EA6;\n",
              "    }\n",
              "\n",
              "    [theme=dark] .colab-df-convert {\n",
              "      background-color: #3B4455;\n",
              "      fill: #D2E3FC;\n",
              "    }\n",
              "\n",
              "    [theme=dark] .colab-df-convert:hover {\n",
              "      background-color: #434B5C;\n",
              "      box-shadow: 0px 1px 3px 1px rgba(0, 0, 0, 0.15);\n",
              "      filter: drop-shadow(0px 1px 2px rgba(0, 0, 0, 0.3));\n",
              "      fill: #FFFFFF;\n",
              "    }\n",
              "  </style>\n",
              "\n",
              "      <script>\n",
              "        const buttonEl =\n",
              "          document.querySelector('#df-7c8002b2-527e-44fb-952d-ab82ce18f74c button.colab-df-convert');\n",
              "        buttonEl.style.display =\n",
              "          google.colab.kernel.accessAllowed ? 'block' : 'none';\n",
              "\n",
              "        async function convertToInteractive(key) {\n",
              "          const element = document.querySelector('#df-7c8002b2-527e-44fb-952d-ab82ce18f74c');\n",
              "          const dataTable =\n",
              "            await google.colab.kernel.invokeFunction('convertToInteractive',\n",
              "                                                     [key], {});\n",
              "          if (!dataTable) return;\n",
              "\n",
              "          const docLinkHtml = 'Like what you see? Visit the ' +\n",
              "            '<a target=\"_blank\" href=https://colab.research.google.com/notebooks/data_table.ipynb>data table notebook</a>'\n",
              "            + ' to learn more about interactive tables.';\n",
              "          element.innerHTML = '';\n",
              "          dataTable['output_type'] = 'display_data';\n",
              "          await google.colab.output.renderOutput(dataTable, element);\n",
              "          const docLink = document.createElement('div');\n",
              "          docLink.innerHTML = docLinkHtml;\n",
              "          element.appendChild(docLink);\n",
              "        }\n",
              "      </script>\n",
              "    </div>\n",
              "  </div>\n",
              "  "
            ]
          },
          "metadata": {},
          "execution_count": 4
        }
      ]
    },
    {
      "cell_type": "markdown",
      "source": [
        "The target (`y`) is an indicator of whether or not the patient developed retinopathy.\n",
        "\n",
        "* y = 1 : patient has retinopathy.\n",
        "* y = 0 : patient does not have retinopathy."
      ],
      "metadata": {
        "id": "BED5WCHlE3T5"
      }
    },
    {
      "cell_type": "code",
      "source": [
        "y.head()"
      ],
      "metadata": {
        "colab": {
          "base_uri": "https://localhost:8080/"
        },
        "id": "WHDXkjy3FJvI",
        "outputId": "bfce55a8-2f40-4198-d6a7-6683d1242408"
      },
      "execution_count": 5,
      "outputs": [
        {
          "output_type": "execute_result",
          "data": {
            "text/plain": [
              "0    1.0\n",
              "1    1.0\n",
              "2    1.0\n",
              "3    1.0\n",
              "4    1.0\n",
              "Name: y, dtype: float64"
            ]
          },
          "metadata": {},
          "execution_count": 5
        }
      ]
    },
    {
      "cell_type": "code",
      "source": [
        "from sklearn.model_selection import train_test_split"
      ],
      "metadata": {
        "id": "0uqJnOGLFL-2"
      },
      "execution_count": 6,
      "outputs": []
    },
    {
      "cell_type": "code",
      "source": [
        "X_train_raw, X_test_raw, y_train, y_test = train_test_split(X, y, train_size=0.75, random_state=0)"
      ],
      "metadata": {
        "id": "TJbNDnSvFPT-"
      },
      "execution_count": 7,
      "outputs": []
    },
    {
      "cell_type": "markdown",
      "source": [
        "Plot the histograms of each column of X_train below:"
      ],
      "metadata": {
        "id": "qHYS1Lx6Ff0_"
      }
    },
    {
      "cell_type": "code",
      "source": [
        "for col in X.columns:\n",
        "    X_train_raw.loc[:, col].hist()\n",
        "    plt.title(col)\n",
        "    plt.show()"
      ],
      "metadata": {
        "colab": {
          "base_uri": "https://localhost:8080/",
          "height": 1000
        },
        "id": "m9Sc02yGFc7E",
        "outputId": "6bc56788-6c1b-42bc-f01d-1b5c7fd93f1b"
      },
      "execution_count": 8,
      "outputs": [
        {
          "output_type": "display_data",
          "data": {
            "text/plain": [
              "<Figure size 432x288 with 1 Axes>"
            ],
            "image/png": "[encoded data removed]"
          },
          "metadata": {
            "needs_background": "light"
          }
        },
        {
          "output_type": "display_data",
          "data": {
            "text/plain": [
              "<Figure size 432x288 with 1 Axes>"
            ],
            "image/png": "[encoded data removed]"
          },
          "metadata": {
            "needs_background": "light"
          }
        },
        {
          "output_type": "display_data",
          "data": {
            "text/plain": [
              "<Figure size 432x288 with 1 Axes>"
            ],
            "image/png": "[encoded data removed]"
          },
          "metadata": {
            "needs_background": "light"
          }
        },
        {
          "output_type": "display_data",
          "data": {
            "text/plain": [
              "<Figure size 432x288 with 1 Axes>"
            ],
            "image/png": "[encoded data removed]"
          },
          "metadata": {
            "needs_background": "light"
          }
        }
      ]
    },
    {
      "cell_type": "markdown",
      "source": [
        "As we can see, the distributions have a generally bell shaped distribution, but with slight rightward skew.\n",
        "\n",
        "Many statistical models assume that the data is normally distributed, forming a symmetric Gaussian bell shape (with no skew) more like the example below."
      ],
      "metadata": {
        "id": "rMUbsL0dFsWS"
      }
    },
    {
      "cell_type": "code",
      "source": [
        "from scipy.stats import norm\n",
        "data = np.random.normal(50,12, 5000)\n",
        "fitting_params = norm.fit(data)\n",
        "norm_dist_fitted = norm(*fitting_params)\n",
        "t = np.linspace(0,100, 100)\n",
        "plt.hist(data, bins=60, density=True)\n",
        "plt.plot(t, norm_dist_fitted.pdf(t))\n",
        "plt.title('Example of Normally Distributed Data')\n",
        "plt.show()"
      ],
      "metadata": {
        "colab": {
          "base_uri": "https://localhost:8080/",
          "height": 281
        },
        "id": "VGy84PGyFhcU",
        "outputId": "db30ae90-8ca9-4500-fbe1-c0ae11e08284"
      },
      "execution_count": 9,
      "outputs": [
        {
          "output_type": "display_data",
          "data": {
            "text/plain": [
              "<Figure size 432x288 with 1 Axes>"
            ],
            "image/png": "[encoded data removed]"
          },
          "metadata": {
            "needs_background": "light"
          }
        }
      ]
    },
    {
      "cell_type": "markdown",
      "source": [
        "We can transform our data to be closer to a normal distribution by removing the skew. One way to remove the skew is by applying the log function to the data.\n",
        "\n",
        "Let's plot the log of the feature variables to see that it produces the desired effect."
      ],
      "metadata": {
        "id": "3Q4pvw5cF6Uj"
      }
    },
    {
      "cell_type": "code",
      "source": [
        "for col in X_train_raw.columns:\n",
        "    np.log(X_train_raw.loc[:, col]).hist()\n",
        "    plt.title(col)\n",
        "    plt.show()"
      ],
      "metadata": {
        "colab": {
          "base_uri": "https://localhost:8080/",
          "height": 1000
        },
        "id": "9i4WORdpF22F",
        "outputId": "83f2e082-5353-4def-aee2-87f54a427935"
      },
      "execution_count": 11,
      "outputs": [
        {
          "output_type": "display_data",
          "data": {
            "text/plain": [
              "<Figure size 432x288 with 1 Axes>"
            ],
            "image/png": "[encoded data removed]"
          },
          "metadata": {
            "needs_background": "light"
          }
        },
        {
          "output_type": "display_data",
          "data": {
            "text/plain": [
              "<Figure size 432x288 with 1 Axes>"
            ],
            "image/png": "[encoded data removed]"
          },
          "metadata": {
            "needs_background": "light"
          }
        },
        {
          "output_type": "display_data",
          "data": {
            "text/plain": [
              "<Figure size 432x288 with 1 Axes>"
            ],
            "image/png": "[encoded data removed]"
          },
          "metadata": {
            "needs_background": "light"
          }
        },
        {
          "output_type": "display_data",
          "data": {
            "text/plain": [
              "<Figure size 432x288 with 1 Axes>"
            ],
            "image/png": "[encoded data removed]"
          },
          "metadata": {
            "needs_background": "light"
          }
        }
      ]
    },
    {
      "cell_type": "markdown",
      "source": [
        "We can see that the data is more symmetric after taking the log."
      ],
      "metadata": {
        "id": "XzOZbskIGCy_"
      }
    },
    {
      "cell_type": "markdown",
      "source": [
        "## 4. Mean - Normalize the Data\n",
        "\n",
        "Let's now transform our data so that the distributions are closer to standard normal distributions.\n",
        "\n",
        "First we will remove some of the skew from the distribution by using the log transformation.\n",
        "Then we will \"standardize\" the distribution so that it has a mean of zero and standard deviation of 1. Recall that a standard normal distribution has mean of zero and standard deviation of 1. "
      ],
      "metadata": {
        "id": "M6WczGcfGJWA"
      }
    },
    {
      "cell_type": "code",
      "source": [
        "def make_standard_normal(df_train, df_test): \n",
        "    # Remove skew by applying the log function to the train set, and to the test set\n",
        "    df_train_unskewed = np.log(df_train)\n",
        "    df_test_unskewed = np.log(df_test)\n",
        "    \n",
        "    #calculate the mean and standard deviation of the training set\n",
        "    mean = df_train_unskewed.mean(axis=0)\n",
        "    stdev = df_train_unskewed.std(axis=0)\n",
        "    \n",
        "    # standardize the training set\n",
        "    df_train_standardized = (df_train_unskewed - mean) / stdev\n",
        "    \n",
        "    # standardize the test set (see instructions and hints above)\n",
        "    df_test_standardized = (df_test_unskewed - mean) / stdev\n",
        "    \n",
        "    return df_train_standardized, df_test_standardized"
      ],
      "metadata": {
        "id": "TpYPktbhGej-"
      },
      "execution_count": 12,
      "outputs": []
    },
    {
      "cell_type": "markdown",
      "source": [
        "**Transform training and test data**\n",
        "\n",
        "Use the function that you just implemented to make the data distribution closer to a standard normal distribution."
      ],
      "metadata": {
        "id": "Y8AFohMKG1AO"
      }
    },
    {
      "cell_type": "code",
      "source": [
        "X_train, X_test = make_standard_normal(X_train_raw, X_test_raw)"
      ],
      "metadata": {
        "id": "SnLCtVKCGlv2"
      },
      "execution_count": 13,
      "outputs": []
    },
    {
      "cell_type": "code",
      "source": [
        "for col in X_train.columns:\n",
        "    X_train[col].hist()\n",
        "    plt.title(col)\n",
        "    plt.show()"
      ],
      "metadata": {
        "colab": {
          "base_uri": "https://localhost:8080/",
          "height": 1000
        },
        "id": "14xOF7iJHCa-",
        "outputId": "b009b952-7755-4ace-e501-5762afdf9b24"
      },
      "execution_count": 14,
      "outputs": [
        {
          "output_type": "display_data",
          "data": {
            "text/plain": [
              "<Figure size 432x288 with 1 Axes>"
            ],
            "image/png": "[encoded data removed]"
          },
          "metadata": {
            "needs_background": "light"
          }
        },
        {
          "output_type": "display_data",
          "data": {
            "text/plain": [
              "<Figure size 432x288 with 1 Axes>"
            ],
            "image/png": "[encoded data removed]"
          },
          "metadata": {
            "needs_background": "light"
          }
        },
        {
          "output_type": "display_data",
          "data": {
            "text/plain": [
              "<Figure size 432x288 with 1 Axes>"
            ],
            "image/png": "[encoded data removed]"
          },
          "metadata": {
            "needs_background": "light"
          }
        },
        {
          "output_type": "display_data",
          "data": {
            "text/plain": [
              "<Figure size 432x288 with 1 Axes>"
            ],
            "image/png": "[encoded data removed]"
          },
          "metadata": {
            "needs_background": "light"
          }
        }
      ]
    },
    {
      "cell_type": "markdown",
      "source": [
        "## 5. Build the Model\n",
        "\n",
        "Implement the `lr_model` function to build a model using logistic regression with the `LogisticRegression` class from `sklearn`."
      ],
      "metadata": {
        "id": "GJbtIy-SHYVG"
      }
    },
    {
      "cell_type": "code",
      "source": [
        "def lr_model(X_train, y_train):\n",
        "    # import the LogisticRegression class\n",
        "    from sklearn.linear_model import LogisticRegression\n",
        "    \n",
        "    # create the model object\n",
        "    model = LogisticRegression()\n",
        "    \n",
        "    # fit the model to the training data\n",
        "    model.fit(X_train, y_train)\n",
        "    \n",
        "    #return the fitted model\n",
        "    return model"
      ],
      "metadata": {
        "id": "jZigJu32HGax"
      },
      "execution_count": 15,
      "outputs": []
    },
    {
      "cell_type": "code",
      "source": [
        "model_X = lr_model(X_train, y_train)"
      ],
      "metadata": {
        "id": "7kWqjibuHqsf"
      },
      "execution_count": 16,
      "outputs": []
    },
    {
      "cell_type": "markdown",
      "source": [
        "## 6. Evaluate the Model Using the C-index\n",
        "\n",
        "* The c-index measures the discriminatory power of a risk score. \n",
        "* Intuitively, a higher c-index indicates that the model's prediction is in agreement with the actual outcomes of a pair of patients.\n",
        "* The formula for the c-index is\n",
        "\n",
        "$$ \\mbox{cindex} = \\frac{\\mbox{concordant} + 0.5 \\times \\mbox{ties}}{\\mbox{permissible}} $$\n",
        "\n",
        "* A permissible pair is a pair of patients who have different outcomes.\n",
        "* A concordant pair is a permissible pair in which the patient with the higher risk score also has the worse outcome.\n",
        "* A tie is a permissible pair where the patients have the same risk score.\n",
        "\n"
      ],
      "metadata": {
        "id": "cRYs86m3H3_3"
      }
    },
    {
      "cell_type": "code",
      "source": [
        "def cindex(y_true, scores):\n",
        "    n = len(y_true)\n",
        "    assert len(scores) == n\n",
        "\n",
        "    concordant = 0\n",
        "    permissible = 0\n",
        "    ties = 0\n",
        "    \n",
        "    # use two nested for loops to go through all unique pairs of patients\n",
        "    for i in range(n):\n",
        "        for j in range(i+1, n): #choose the range of j so that j>i\n",
        "            \n",
        "            # Check if the pair is permissible (the patient outcomes are different)\n",
        "            if y_true[i] != y_true[j]:\n",
        "                # Count the pair if it's permissible\n",
        "                permissible += 1\n",
        "\n",
        "                # For permissible pairs, check if they are concordant or are ties\n",
        "\n",
        "                # check for ties in the score\n",
        "                if scores[i] == scores[j]:\n",
        "                    # count the tie\n",
        "                    ties += 1\n",
        "                    # if it's a tie, we don't need to check patient outcomes, continue to the top of the for loop.\n",
        "                    continue\n",
        "\n",
        "                # case 1: patient i doesn't get the disease, patient j does\n",
        "                if y_true[i] == 0 and y_true[j] == 1:\n",
        "                    # Check if patient i has a lower risk score than patient j\n",
        "                    if scores[i] < scores[j]:\n",
        "                        # count the concordant pair\n",
        "                        concordant += 1\n",
        "                    # Otherwise if patient i has a higher risk score, it's not a concordant pair.\n",
        "                    # Already checked for ties earlier\n",
        "\n",
        "                # case 2: patient i gets the disease, patient j does not\n",
        "                if y_true[i] == 1 and y_true[j] == 0:\n",
        "                    # Check if patient i has a higher risk score than patient j\n",
        "                    if scores[i] > scores[j]:\n",
        "                        #count the concordant pair\n",
        "                        concordant += 1\n",
        "                    # Otherwise if patient i has a lower risk score, it's not a concordant pair.\n",
        "                    # We already checked for ties earlier\n",
        "\n",
        "    # calculate the c-index using the count of permissible pairs, concordant pairs, and tied pairs.\n",
        "    c_index = (concordant + 0.5 * ties) / permissible\n",
        "    \n",
        "    return c_index"
      ],
      "metadata": {
        "id": "6a4sRGQVH0LJ"
      },
      "execution_count": 17,
      "outputs": []
    },
    {
      "cell_type": "code",
      "source": [
        "# test\n",
        "y_true = np.array([1.0, 0.0, 0.0, 1.0])\n",
        "\n",
        "# Case 1\n",
        "scores = np.array([0, 1, 1, 0])\n",
        "print('Case 1 Output: {}'.format(cindex(y_true, scores)))\n",
        "\n",
        "# Case 2\n",
        "scores = np.array([1, 0, 0, 1])\n",
        "print('Case 2 Output: {}'.format(cindex(y_true, scores)))\n",
        "\n",
        "# Case 3\n",
        "scores = np.array([0.5, 0.5, 0.0, 1.0])\n",
        "print('Case 3 Output: {}'.format(cindex(y_true, scores)))\n",
        "cindex(y_true, scores)"
      ],
      "metadata": {
        "colab": {
          "base_uri": "https://localhost:8080/"
        },
        "id": "KwM68f_9JuKy",
        "outputId": "4e1a3b6d-a345-4716-a96d-dd7bd49aedbd"
      },
      "execution_count": 18,
      "outputs": [
        {
          "output_type": "stream",
          "name": "stdout",
          "text": [
            "Case 1 Output: 0.0\n",
            "Case 2 Output: 1.0\n",
            "Case 3 Output: 0.875\n"
          ]
        },
        {
          "output_type": "execute_result",
          "data": {
            "text/plain": [
              "0.875"
            ]
          },
          "metadata": {},
          "execution_count": 18
        }
      ]
    },
    {
      "cell_type": "markdown",
      "source": [
        "## 7. Evaluate the Model on the Test Set"
      ],
      "metadata": {
        "id": "XxmCkOBZKCpo"
      }
    },
    {
      "cell_type": "code",
      "source": [
        "scores = model_X.predict_proba(X_test)[:, 1]\n",
        "c_index_X_test = cindex(y_test.values, scores)\n",
        "print(f\"c-index on test set is {c_index_X_test:.4f}\")"
      ],
      "metadata": {
        "colab": {
          "base_uri": "https://localhost:8080/"
        },
        "id": "34TiMFf7J01Y",
        "outputId": "ee3d4098-659d-4b6b-afb7-d7b9a00e1b15"
      },
      "execution_count": 19,
      "outputs": [
        {
          "output_type": "stream",
          "name": "stdout",
          "text": [
            "c-index on test set is 0.8182\n"
          ]
        }
      ]
    },
    {
      "cell_type": "markdown",
      "source": [
        "Let's plot the coefficients to see which variables (patient features) are having the most effect. You can access the model coefficients by using `model.coef_`"
      ],
      "metadata": {
        "id": "lrrCSBc5KeC-"
      }
    },
    {
      "cell_type": "code",
      "source": [
        "coeffs = pd.DataFrame(data = model_X.coef_, columns = X_train.columns)\n",
        "coeffs.T.plot.bar(legend=None);"
      ],
      "metadata": {
        "colab": {
          "base_uri": "https://localhost:8080/",
          "height": 316
        },
        "id": "VV9zlCdvKRea",
        "outputId": "f4264b38-6255-4a80-ef57-ce135ee10aef"
      },
      "execution_count": 21,
      "outputs": [
        {
          "output_type": "display_data",
          "data": {
            "text/plain": [
              "<Figure size 432x288 with 1 Axes>"
            ],
            "image/png": "[encoded data removed]"
          },
          "metadata": {
            "needs_background": "light"
          }
        }
      ]
    },
    {
      "cell_type": "markdown",
      "source": [
        "## 8. Improve the Model\n",
        "\n",
        "You can try to improve your model by including interaction terms. \n",
        "* An interaction term is the product of two variables. \n",
        "    * For example, if we have data \n",
        "    $$ x = [x_1, x_2]$$\n",
        "    * We could add the product so that:\n",
        "    $$ \\hat{x} = [x_1, x_2, x_1*x_2]$$"
      ],
      "metadata": {
        "id": "1_EpfQHNKlwu"
      }
    },
    {
      "cell_type": "markdown",
      "source": [
        "Add all interactions between every pair of variables to the training and test datasets. "
      ],
      "metadata": {
        "id": "eKra6q3AK5dK"
      }
    },
    {
      "cell_type": "code",
      "source": [
        "def add_interactions(X):\n",
        "    features = X.columns\n",
        "    m = len(features)\n",
        "    X_int = X.copy(deep=True)\n",
        "\n",
        "    # 'i' loops through all features in the original dataframe X\n",
        "    for i in range(m):\n",
        "        \n",
        "        # get the name of feature 'i'\n",
        "        feature_i_name = features[i]\n",
        "        \n",
        "        # get the data for feature 'i'\n",
        "        feature_i_data = X.loc[:, feature_i_name]\n",
        "        \n",
        "        # choose the index of column 'j' to be greater than column i\n",
        "        for j in range(i+1, m):\n",
        "            \n",
        "            # get the name of feature 'j'\n",
        "            feature_j_name = features[j]\n",
        "            \n",
        "            # get the data for feature j'\n",
        "            feature_j_data = X.loc[:, feature_j_name]\n",
        "            \n",
        "            # create the name of the interaction feature by combining both names\n",
        "            # example: \"apple\" and \"orange\" are combined to be \"apple_x_orange\"\n",
        "            feature_i_j_name = f\"{feature_i_name}_x_{feature_j_name}\"\n",
        "            \n",
        "            # Multiply the data for feature 'i' and feature 'j'\n",
        "            # store the result as a column in dataframe X_int\n",
        "            X_int[feature_i_j_name] = feature_i_data * feature_j_data\n",
        "        \n",
        "    return X_int"
      ],
      "metadata": {
        "id": "dOnRbiFCKh80"
      },
      "execution_count": 23,
      "outputs": []
    },
    {
      "cell_type": "code",
      "source": [
        "## Testing \n",
        "print(\"Original Data\")\n",
        "print(X_train.loc[:, ['Age', 'Systolic_BP']].head())\n",
        "print(\"Data w/ Interactions\")\n",
        "print(add_interactions(X_train.loc[:, ['Age', 'Systolic_BP']].head()))"
      ],
      "metadata": {
        "colab": {
          "base_uri": "https://localhost:8080/"
        },
        "id": "RW1WPaS0LCV5",
        "outputId": "2b59f50c-4ea6-4fda-a61e-0c81d65c4924"
      },
      "execution_count": 24,
      "outputs": [
        {
          "output_type": "stream",
          "name": "stdout",
          "text": [
            "Original Data\n",
            "           Age  Systolic_BP\n",
            "1824 -0.912451    -0.068019\n",
            "253  -0.302039     1.719538\n",
            "1114  2.576274     0.155962\n",
            "3220  1.163621    -2.033931\n",
            "2108 -0.446238    -0.054554\n",
            "Data w/ Interactions\n",
            "           Age  Systolic_BP  Age_x_Systolic_BP\n",
            "1824 -0.912451    -0.068019           0.062064\n",
            "253  -0.302039     1.719538          -0.519367\n",
            "1114  2.576274     0.155962           0.401800\n",
            "3220  1.163621    -2.033931          -2.366725\n",
            "2108 -0.446238    -0.054554           0.024344\n"
          ]
        }
      ]
    },
    {
      "cell_type": "markdown",
      "source": [
        "Make transformed version of X_train and X_test."
      ],
      "metadata": {
        "id": "lbBgUt67LSkK"
      }
    },
    {
      "cell_type": "code",
      "source": [
        "X_train_int = add_interactions(X_train)\n",
        "X_test_int = add_interactions(X_test)"
      ],
      "metadata": {
        "id": "TwGjP-T9LHeg"
      },
      "execution_count": 25,
      "outputs": []
    },
    {
      "cell_type": "markdown",
      "source": [
        "## 9. Evalute the Improved Model"
      ],
      "metadata": {
        "id": "x4KUyVC1LYJM"
      }
    },
    {
      "cell_type": "code",
      "source": [
        "model_X_int = lr_model(X_train_int, y_train)"
      ],
      "metadata": {
        "id": "S50SeobrLR9e"
      },
      "execution_count": 26,
      "outputs": []
    },
    {
      "cell_type": "code",
      "source": [
        "scores_X = model_X.predict_proba(X_test)[:, 1]\n",
        "c_index_X_int_test = cindex(y_test.values, scores_X)\n",
        "\n",
        "scores_X_int = model_X_int.predict_proba(X_test_int)[:, 1]\n",
        "c_index_X_int_test = cindex(y_test.values, scores_X_int)\n",
        "\n",
        "print(f\"c-index on test set without interactions is {c_index_X_test:.4f}\")\n",
        "print(f\"c-index on test set with interactions is {c_index_X_int_test:.4f}\")"
      ],
      "metadata": {
        "colab": {
          "base_uri": "https://localhost:8080/"
        },
        "id": "bWqXJhkvLddA",
        "outputId": "c683c410-8686-407a-f5c1-2ea6ab10ea85"
      },
      "execution_count": 27,
      "outputs": [
        {
          "output_type": "stream",
          "name": "stdout",
          "text": [
            "c-index on test set without interactions is 0.8182\n",
            "c-index on test set with interactions is 0.8281\n"
          ]
        }
      ]
    },
    {
      "cell_type": "code",
      "source": [
        "int_coeffs = pd.DataFrame(data = model_X_int.coef_, columns = X_train_int.columns)\n",
        "int_coeffs.T.plot.bar();"
      ],
      "metadata": {
        "colab": {
          "base_uri": "https://localhost:8080/",
          "height": 389
        },
        "id": "SA7xdIP5Lkjc",
        "outputId": "c1228c20-1b65-41c2-d561-b0efa5d8baf3"
      },
      "execution_count": 28,
      "outputs": [
        {
          "output_type": "display_data",
          "data": {
            "text/plain": [
              "<Figure size 432x288 with 1 Axes>"
            ],
            "image/png": "[encoded data removed]"
          },
          "metadata": {
            "needs_background": "light"
          }
        }
      ]
    },
    {
      "cell_type": "markdown",
      "source": [
        "You may notice that Age, Systolic_BP, and Cholesterol have a positive coefficient. This means that a higher value in these three features leads to a higher prediction probability for the disease. You also may notice that the interaction of Age x Cholesterol has a negative coefficient. This means that a higher value for the Age x Cholesterol product reduces the prediction probability for the disease.\n",
        "\n",
        "To understand the effect of interaction terms, let's compare the output of the model we've trained on sample cases with and without the interaction. Run the cell below to choose an index and look at the features corresponding to that case in the training set. "
      ],
      "metadata": {
        "id": "Cr9oToe2Lvoj"
      }
    },
    {
      "cell_type": "code",
      "source": [
        "index = index = 3432\n",
        "case = X_train_int.iloc[index, :]\n",
        "print(case)"
      ],
      "metadata": {
        "colab": {
          "base_uri": "https://localhost:8080/"
        },
        "id": "FAG94zdDLpvt",
        "outputId": "201fdb8a-1b25-4515-914a-4dae91b477ad"
      },
      "execution_count": 29,
      "outputs": [
        {
          "output_type": "stream",
          "name": "stdout",
          "text": [
            "Age                           2.502061\n",
            "Systolic_BP                   1.713547\n",
            "Diastolic_BP                  0.268265\n",
            "Cholesterol                   2.146349\n",
            "Age_x_Systolic_BP             4.287400\n",
            "Age_x_Diastolic_BP            0.671216\n",
            "Age_x_Cholesterol             5.370296\n",
            "Systolic_BP_x_Diastolic_BP    0.459685\n",
            "Systolic_BP_x_Cholesterol     3.677871\n",
            "Diastolic_BP_x_Cholesterol    0.575791\n",
            "Name: 5970, dtype: float64\n"
          ]
        }
      ]
    },
    {
      "cell_type": "markdown",
      "source": [
        "We can see that they have above average Age and Cholesterol. We can now see what our original model would have output by zero-ing out the value for Cholesterol and Age."
      ],
      "metadata": {
        "id": "A0EYjitpL0Tg"
      }
    },
    {
      "cell_type": "code",
      "source": [
        "new_case = case.copy(deep=True)\n",
        "new_case.loc[\"Age_x_Cholesterol\"] = 0\n",
        "new_case"
      ],
      "metadata": {
        "colab": {
          "base_uri": "https://localhost:8080/"
        },
        "id": "RAyNzPwCLyYt",
        "outputId": "d071826c-8773-49d8-9c2a-206cfd51e16f"
      },
      "execution_count": 30,
      "outputs": [
        {
          "output_type": "execute_result",
          "data": {
            "text/plain": [
              "Age                           2.502061\n",
              "Systolic_BP                   1.713547\n",
              "Diastolic_BP                  0.268265\n",
              "Cholesterol                   2.146349\n",
              "Age_x_Systolic_BP             4.287400\n",
              "Age_x_Diastolic_BP            0.671216\n",
              "Age_x_Cholesterol             0.000000\n",
              "Systolic_BP_x_Diastolic_BP    0.459685\n",
              "Systolic_BP_x_Cholesterol     3.677871\n",
              "Diastolic_BP_x_Cholesterol    0.575791\n",
              "Name: 5970, dtype: float64"
            ]
          },
          "metadata": {},
          "execution_count": 30
        }
      ]
    },
    {
      "cell_type": "code",
      "source": [
        "print(f\"Output with interaction: \\t{model_X_int.predict_proba([case.values])[:, 1][0]:.4f}\")\n",
        "print(f\"Output without interaction: \\t{model_X_int.predict_proba([new_case.values])[:, 1][0]:.4f}\")"
      ],
      "metadata": {
        "colab": {
          "base_uri": "https://localhost:8080/"
        },
        "id": "p44MZj_1L2SJ",
        "outputId": "2e272a4e-3fa0-4882-d5f6-0cc7a9b1da4b"
      },
      "execution_count": 31,
      "outputs": [
        {
          "output_type": "stream",
          "name": "stdout",
          "text": [
            "Output with interaction: \t0.9448\n",
            "Output without interaction: \t0.9965\n"
          ]
        },
        {
          "output_type": "stream",
          "name": "stderr",
          "text": [
            "/usr/local/lib/python3.7/dist-packages/sklearn/base.py:451: UserWarning: X does not have valid feature names, but LogisticRegression was fitted with feature names\n",
            "  \"X does not have valid feature names, but\"\n",
            "/usr/local/lib/python3.7/dist-packages/sklearn/base.py:451: UserWarning: X does not have valid feature names, but LogisticRegression was fitted with feature names\n",
            "  \"X does not have valid feature names, but\"\n"
          ]
        }
      ]
    },
    {
      "cell_type": "markdown",
      "source": [
        "We see that the model is less confident in its prediction with the interaction term than without (the prediction value is lower when including the interaction term). With the interaction term, the model has adjusted for the fact that the effect of high cholesterol becomes less important for older patients compared to younger patients."
      ],
      "metadata": {
        "id": "-A6keaqeL8sA"
      }
    },
    {
      "cell_type": "code",
      "source": [
        ""
      ],
      "metadata": {
        "id": "q4OEARXYL9Es"
      },
      "execution_count": null,
      "outputs": []
    }
  ]
}